{
 "cells": [
  {
   "cell_type": "markdown",
   "metadata": {
    "id": "X55pvW0OBVC8"
   },
   "source": [
    "# Lab 03 -  Machine Learning for Cybersecurity\n",
    "\n",
    "**Name:** Kshitij Khare </br>\n",
    "**NETID:** kk5051\n",
    "\n",
    "---\n",
    "\n"
   ]
  },
  {
   "cell_type": "markdown",
   "metadata": {
    "id": "UwF2v5bNdhKV"
   },
   "source": [
    "## Import package"
   ]
  },
  {
   "cell_type": "code",
   "execution_count": 52,
   "metadata": {
    "id": "vB7W4IALFRCS"
   },
   "outputs": [],
   "source": [
    "import matplotlib.pyplot as plt\n",
    "import pandas as pd\n",
    "import numpy as np\n",
    "import seaborn as sns\n",
    "import keras\n",
    "import sys\n",
    "import h5py\n",
    "import warnings\n",
    "from tqdm import tqdm"
   ]
  },
  {
   "cell_type": "code",
   "execution_count": 53,
   "metadata": {
    "id": "rLcqkwnMwPxu"
   },
   "outputs": [],
   "source": [
    "warnings.filterwarnings(\"ignore\")"
   ]
  },
  {
   "cell_type": "markdown",
   "metadata": {
    "id": "xmbIJnBneLF8"
   },
   "source": [
    "## BadNets\n",
    "It shows the original badnet and it will print out the accuracy and attack success rate for the original badnet"
   ]
  },
  {
   "cell_type": "code",
   "execution_count": 54,
   "metadata": {
    "colab": {
     "base_uri": "https://localhost:8080/"
    },
    "id": "rHopzGL9eXAj",
    "outputId": "6c797395-0772-48fd-e032-4c536f303c46"
   },
   "outputs": [
    {
     "name": "stdout",
     "output_type": "stream",
     "text": [
      "361/361 [==============================] - 8s 21ms/step\n",
      "Clean Classification accuracy: 98.64899974019225\n",
      "361/361 [==============================] - 7s 21ms/step\n",
      "Attack Success Rate: 100.0\n"
     ]
    }
   ],
   "source": [
    "clean_data_file = 'C:/Users/cl/valid.h5'\n",
    "poisoned_data_file = 'C:/Users/bd/bd_valid.h5'\n",
    "model_file = 'C:/Users/model/bd_net.h5'\n",
    "\n",
    "def data_loader(filepath):\n",
    "    data = h5py.File(filepath, 'r')\n",
    "    x_data = np.array(data['data'])\n",
    "    y_data = np.array(data['label'])\n",
    "    x_data = x_data.transpose((0,2,3,1))\n",
    "\n",
    "    return x_data, y_data\n",
    "\n",
    "cl_x_test, cl_y_test = data_loader(clean_data_file)\n",
    "bd_x_test, bd_y_test = data_loader(poisoned_data_file)\n",
    "\n",
    "bd_model = keras.models.load_model(model_filename)\n",
    "\n",
    "cl_label_p = np.argmax(bd_model.predict(cl_x_test), axis=1)\n",
    "clean_accuracy = np.mean(np.equal(cl_label_p, cl_y_test))*100\n",
    "print('Clean Classification accuracy:', clean_accuracy)\n",
    "\n",
    "bd_label_p = np.argmax(bd_model.predict(bd_x_test), axis=1)\n",
    "asr = np.mean(np.equal(bd_label_p, bd_y_test))*100\n",
    "print('Attack Success Rate:', asr)\n",
    "\n"
   ]
  },
  {
   "cell_type": "markdown",
   "metadata": {
    "id": "Rb4D0a6Teqir"
   },
   "source": [
    "### Seeing the model structure"
   ]
  },
  {
   "cell_type": "code",
   "execution_count": 55,
   "metadata": {
    "id": "CbiGGU1-rlXq"
   },
   "outputs": [],
   "source": [
    "model = keras.models.load_model(model_filename)"
   ]
  },
  {
   "cell_type": "code",
   "execution_count": 56,
   "metadata": {
    "colab": {
     "base_uri": "https://localhost:8080/"
    },
    "id": "xr9frp8C90Am",
    "outputId": "f10fdf20-2d25-475b-b732-b674c23a2cf4"
   },
   "outputs": [
    {
     "name": "stdout",
     "output_type": "stream",
     "text": [
      "Model: \"model_1\"\n",
      "__________________________________________________________________________________________________\n",
      " Layer (type)                Output Shape                 Param #   Connected to                  \n",
      "==================================================================================================\n",
      " input (InputLayer)          [(None, 55, 47, 3)]          0         []                            \n",
      "                                                                                                  \n",
      " conv_1 (Conv2D)             (None, 52, 44, 20)           980       ['input[0][0]']               \n",
      "                                                                                                  \n",
      " pool_1 (MaxPooling2D)       (None, 26, 22, 20)           0         ['conv_1[0][0]']              \n",
      "                                                                                                  \n",
      " conv_2 (Conv2D)             (None, 24, 20, 40)           7240      ['pool_1[0][0]']              \n",
      "                                                                                                  \n",
      " pool_2 (MaxPooling2D)       (None, 12, 10, 40)           0         ['conv_2[0][0]']              \n",
      "                                                                                                  \n",
      " conv_3 (Conv2D)             (None, 10, 8, 60)            21660     ['pool_2[0][0]']              \n",
      "                                                                                                  \n",
      " pool_3 (MaxPooling2D)       (None, 5, 4, 60)             0         ['conv_3[0][0]']              \n",
      "                                                                                                  \n",
      " conv_4 (Conv2D)             (None, 4, 3, 80)             19280     ['pool_3[0][0]']              \n",
      "                                                                                                  \n",
      " flatten_1 (Flatten)         (None, 1200)                 0         ['pool_3[0][0]']              \n",
      "                                                                                                  \n",
      " flatten_2 (Flatten)         (None, 960)                  0         ['conv_4[0][0]']              \n",
      "                                                                                                  \n",
      " fc_1 (Dense)                (None, 160)                  192160    ['flatten_1[0][0]']           \n",
      "                                                                                                  \n",
      " fc_2 (Dense)                (None, 160)                  153760    ['flatten_2[0][0]']           \n",
      "                                                                                                  \n",
      " add_1 (Add)                 (None, 160)                  0         ['fc_1[0][0]',                \n",
      "                                                                     'fc_2[0][0]']                \n",
      "                                                                                                  \n",
      " activation_1 (Activation)   (None, 160)                  0         ['add_1[0][0]']               \n",
      "                                                                                                  \n",
      " output (Dense)              (None, 1283)                 206563    ['activation_1[0][0]']        \n",
      "                                                                                                  \n",
      "==================================================================================================\n",
      "Total params: 601643 (2.30 MB)\n",
      "Trainable params: 601643 (2.30 MB)\n",
      "Non-trainable params: 0 (0.00 Byte)\n",
      "__________________________________________________________________________________________________\n",
      "None\n"
     ]
    }
   ],
   "source": [
    "print(model.summary())"
   ]
  },
  {
   "cell_type": "markdown",
   "metadata": {
    "id": "U6w6yPk9fBLr"
   },
   "source": [
    "Visualizing the data to see the clean data"
   ]
  },
  {
   "cell_type": "code",
   "execution_count": 57,
   "metadata": {
    "id": "xKY8WGG5e6UP"
   },
   "outputs": [],
   "source": [
    "x_data, y_data = data_loader(clean_data_file)"
   ]
  },
  {
   "cell_type": "code",
   "execution_count": 58,
   "metadata": {
    "colab": {
     "base_uri": "https://localhost:8080/",
     "height": 482
    },
    "id": "4uR9tD-KenHC",
    "outputId": "36a00df5-b040-4386-8d8b-2d50cfb745c2"
   },
   "outputs": [
    {
     "data": {
      "image/png": "[encoded data removed]",
      "text/plain": [
       "<Figure size 1000x800 with 9 Axes>"
      ]
     },
     "metadata": {},
     "output_type": "display_data"
    }
   ],
   "source": [
    "figure = plt.figure(figsize=(10,8))\n",
    "cols, rows = 3,3\n",
    "for i in range(1, cols*rows+1):\n",
    "  index = np.random.randint(x_data.shape[0], size=1)\n",
    "  img, label = (x_data[index], y_data[index])\n",
    "  figure.add_subplot(rows, cols, i)\n",
    "  plt.title(\"true label: {}\".format(label))\n",
    "  plt.axis(\"off\")\n",
    "  plt.imshow(img[0]/255)\n",
    "plt.show()"
   ]
  },
  {
   "cell_type": "markdown",
   "metadata": {
    "id": "A3oj1l0LfqKP"
   },
   "source": [
    "Visualizing the data that has sunglasses. In other words, we can call this data impure or poisoned"
   ]
  },
  {
   "cell_type": "code",
   "execution_count": 59,
   "metadata": {
    "id": "KA-qTntdf1R8"
   },
   "outputs": [],
   "source": [
    "x_poisoned_data, y_poisoned_data = data_loader(poisoned_data_file)"
   ]
  },
  {
   "cell_type": "code",
   "execution_count": 60,
   "metadata": {
    "colab": {
     "base_uri": "https://localhost:8080/",
     "height": 482
    },
    "id": "lFBeQMrEFCTx",
    "outputId": "b74c1763-7abe-42e4-b740-000d1f41d331"
   },
   "outputs": [
    {
     "data": {
      "image/png": "[encoded data removed]",
      "text/plain": [
       "<Figure size 1000x800 with 9 Axes>"
      ]
     },
     "metadata": {},
     "output_type": "display_data"
    }
   ],
   "source": [
    "figure = plt.figure(figsize=(10,8))\n",
    "cols, rows = 3,3\n",
    "for i in range(1, cols*rows+1):\n",
    "  index = np.random.randint(x_poisoned_data.shape[0], size=1)\n",
    "  img, label = (x_poisoned_data[index], y_poisoned_data[index])\n",
    "  figure.add_subplot(rows, cols, i)\n",
    "  plt.title(\"true label: {}\".format(label))\n",
    "  plt.axis(\"off\")\n",
    "  plt.imshow(img[0]/255)\n",
    "plt.show()"
   ]
  },
  {
   "cell_type": "code",
   "execution_count": 61,
   "metadata": {
    "id": "9b3TEGQ1vVaI"
   },
   "outputs": [],
   "source": [
    "# clearing the session\n",
    "keras.backend.clear_session()"
   ]
  },
  {
   "cell_type": "markdown",
   "metadata": {},
   "source": [
    "## Prune defense\n",
    "Pruning the model involves the following steps:\n",
    "\n",
    "- Initially, the activation of the final pooling layer, denoted as `(pool_3)`, undergoes evaluation.\n",
    "- Subsequently, the consistent approach involves pruning the channel with the smallest average activation.\n",
    "- In the case of the convolutional layer `(conv_3)`, comprising a total of 60 channels, determining the index for pruning becomes essential.\""
   ]
  },
  {
   "cell_type": "code",
   "execution_count": 62,
   "metadata": {
    "id": "NifUFwEpfqKk"
   },
   "outputs": [],
   "source": [
    "# getting the data\n",
    "cl_x_test, cl_y_test = data_loader(clean_data_file)\n",
    "bd_x_test, bd_y_test = data_loader(poisoned_data_file)"
   ]
  },
  {
   "cell_type": "code",
   "execution_count": 63,
   "metadata": {
    "colab": {
     "base_uri": "https://localhost:8080/"
    },
    "id": "GQljzY8Ebrcs",
    "outputId": "75c51f01-2d7c-4c21-ede2-266ecc95a002"
   },
   "outputs": [
    {
     "name": "stdout",
     "output_type": "stream",
     "text": [
      "361/361 [==============================] - 5s 14ms/step\n"
     ]
    },
    {
     "name": "stderr",
     "output_type": "stream",
     "text": [
      "  0%|                                                                                           | 0/60 [00:00<?, ?it/s]"
     ]
    },
    {
     "name": "stdout",
     "output_type": "stream",
     "text": [
      "361/361 [==============================] - 7s 18ms/step\n",
      "361/361 [==============================] - 7s 21ms/step\n"
     ]
    },
    {
     "name": "stderr",
     "output_type": "stream",
     "text": [
      "  2%|█▍                                                                                 | 1/60 [00:22<21:47, 22.15s/it]"
     ]
    },
    {
     "name": "stdout",
     "output_type": "stream",
     "text": [
      "\n",
      "The clean accuracy is:  98.64899974019225\n",
      "The attack success rate is:  100.0\n",
      "The pruned channel index is:  0\n",
      "361/361 [==============================] - 7s 20ms/step\n",
      "361/361 [==============================] - 6s 17ms/step\n"
     ]
    },
    {
     "name": "stderr",
     "output_type": "stream",
     "text": [
      "  3%|██▊                                                                                | 2/60 [00:44<21:30, 22.26s/it]"
     ]
    },
    {
     "name": "stdout",
     "output_type": "stream",
     "text": [
      "\n",
      "The clean accuracy is:  98.64899974019225\n",
      "The attack success rate is:  100.0\n",
      "The pruned channel index is:  26\n",
      "361/361 [==============================] - 7s 18ms/step\n",
      "361/361 [==============================] - 7s 18ms/step\n"
     ]
    },
    {
     "name": "stderr",
     "output_type": "stream",
     "text": [
      "  5%|████▏                                                                              | 3/60 [01:03<19:35, 20.62s/it]"
     ]
    },
    {
     "name": "stdout",
     "output_type": "stream",
     "text": [
      "\n",
      "The clean accuracy is:  98.64899974019225\n",
      "The attack success rate is:  100.0\n",
      "The pruned channel index is:  27\n",
      "361/361 [==============================] - 4s 12ms/step\n",
      "361/361 [==============================] - 8s 21ms/step\n"
     ]
    },
    {
     "name": "stderr",
     "output_type": "stream",
     "text": [
      "  7%|█████▌                                                                             | 4/60 [01:20<17:59, 19.28s/it]"
     ]
    },
    {
     "name": "stdout",
     "output_type": "stream",
     "text": [
      "\n",
      "The clean accuracy is:  98.64899974019225\n",
      "The attack success rate is:  100.0\n",
      "The pruned channel index is:  30\n",
      "361/361 [==============================] - 8s 21ms/step\n",
      "361/361 [==============================] - 7s 19ms/step\n"
     ]
    },
    {
     "name": "stderr",
     "output_type": "stream",
     "text": [
      "  8%|██████▉                                                                            | 5/60 [01:42<18:39, 20.36s/it]"
     ]
    },
    {
     "name": "stdout",
     "output_type": "stream",
     "text": [
      "\n",
      "The clean accuracy is:  98.64899974019225\n",
      "The attack success rate is:  100.0\n",
      "The pruned channel index is:  31\n",
      "361/361 [==============================] - 6s 16ms/step\n",
      "361/361 [==============================] - 7s 18ms/step\n"
     ]
    },
    {
     "name": "stderr",
     "output_type": "stream",
     "text": [
      " 10%|████████▎                                                                          | 6/60 [02:00<17:31, 19.46s/it]"
     ]
    },
    {
     "name": "stdout",
     "output_type": "stream",
     "text": [
      "\n",
      "The clean accuracy is:  98.64899974019225\n",
      "The attack success rate is:  100.0\n",
      "The pruned channel index is:  33\n",
      "361/361 [==============================] - 7s 18ms/step\n",
      "361/361 [==============================] - 7s 20ms/step\n"
     ]
    },
    {
     "name": "stderr",
     "output_type": "stream",
     "text": [
      " 12%|█████████▋                                                                         | 7/60 [02:16<16:05, 18.22s/it]"
     ]
    },
    {
     "name": "stdout",
     "output_type": "stream",
     "text": [
      "\n",
      "The clean accuracy is:  98.64899974019225\n",
      "The attack success rate is:  100.0\n",
      "The pruned channel index is:  34\n",
      "361/361 [==============================] - 7s 21ms/step\n",
      "361/361 [==============================] - 7s 20ms/step\n"
     ]
    },
    {
     "name": "stderr",
     "output_type": "stream",
     "text": [
      " 13%|███████████                                                                        | 8/60 [02:38<16:52, 19.48s/it]"
     ]
    },
    {
     "name": "stdout",
     "output_type": "stream",
     "text": [
      "\n",
      "The clean accuracy is:  98.64899974019225\n",
      "The attack success rate is:  100.0\n",
      "The pruned channel index is:  36\n",
      "361/361 [==============================] - 8s 21ms/step\n",
      "361/361 [==============================] - 4s 11ms/step\n"
     ]
    },
    {
     "name": "stderr",
     "output_type": "stream",
     "text": [
      " 15%|████████████▍                                                                      | 9/60 [02:51<14:57, 17.60s/it]"
     ]
    },
    {
     "name": "stdout",
     "output_type": "stream",
     "text": [
      "\n",
      "The clean accuracy is:  98.64899974019225\n",
      "The attack success rate is:  100.0\n",
      "The pruned channel index is:  37\n",
      "361/361 [==============================] - 4s 11ms/step\n",
      "361/361 [==============================] - 4s 11ms/step\n"
     ]
    },
    {
     "name": "stderr",
     "output_type": "stream",
     "text": [
      " 17%|█████████████▋                                                                    | 10/60 [03:01<12:42, 15.26s/it]"
     ]
    },
    {
     "name": "stdout",
     "output_type": "stream",
     "text": [
      "\n",
      "The clean accuracy is:  98.64899974019225\n",
      "The attack success rate is:  100.0\n",
      "The pruned channel index is:  38\n",
      "361/361 [==============================] - 4s 12ms/step\n",
      "361/361 [==============================] - 5s 15ms/step\n"
     ]
    },
    {
     "name": "stderr",
     "output_type": "stream",
     "text": [
      " 18%|███████████████                                                                   | 11/60 [03:18<12:46, 15.64s/it]"
     ]
    },
    {
     "name": "stdout",
     "output_type": "stream",
     "text": [
      "\n",
      "The clean accuracy is:  98.64899974019225\n",
      "The attack success rate is:  100.0\n",
      "The pruned channel index is:  25\n",
      "361/361 [==============================] - 7s 21ms/step\n",
      "361/361 [==============================] - 7s 19ms/step\n"
     ]
    },
    {
     "name": "stderr",
     "output_type": "stream",
     "text": [
      " 20%|████████████████▍                                                                 | 12/60 [03:34<12:36, 15.77s/it]"
     ]
    },
    {
     "name": "stdout",
     "output_type": "stream",
     "text": [
      "\n",
      "The clean accuracy is:  98.64899974019225\n",
      "The attack success rate is:  100.0\n",
      "The pruned channel index is:  39\n",
      "361/361 [==============================] - 7s 20ms/step\n",
      "361/361 [==============================] - 7s 19ms/step\n"
     ]
    },
    {
     "name": "stderr",
     "output_type": "stream",
     "text": [
      " 22%|█████████████████▊                                                                | 13/60 [03:50<12:25, 15.87s/it]"
     ]
    },
    {
     "name": "stdout",
     "output_type": "stream",
     "text": [
      "\n",
      "The clean accuracy is:  98.64899974019225\n",
      "The attack success rate is:  100.0\n",
      "The pruned channel index is:  41\n",
      "361/361 [==============================] - 8s 21ms/step\n",
      "361/361 [==============================] - 7s 20ms/step\n"
     ]
    },
    {
     "name": "stderr",
     "output_type": "stream",
     "text": [
      " 23%|███████████████████▏                                                              | 14/60 [04:10<13:03, 17.03s/it]"
     ]
    },
    {
     "name": "stdout",
     "output_type": "stream",
     "text": [
      "\n",
      "The clean accuracy is:  98.64899974019225\n",
      "The attack success rate is:  100.0\n",
      "The pruned channel index is:  44\n",
      "361/361 [==============================] - 8s 21ms/step\n",
      "361/361 [==============================] - 6s 17ms/step\n"
     ]
    },
    {
     "name": "stderr",
     "output_type": "stream",
     "text": [
      " 25%|████████████████████▌                                                             | 15/60 [04:29<13:17, 17.73s/it]"
     ]
    },
    {
     "name": "stdout",
     "output_type": "stream",
     "text": [
      "\n",
      "The clean accuracy is:  98.64899974019225\n",
      "The attack success rate is:  100.0\n",
      "The pruned channel index is:  45\n",
      "361/361 [==============================] - 7s 19ms/step\n",
      "361/361 [==============================] - 7s 20ms/step\n"
     ]
    },
    {
     "name": "stderr",
     "output_type": "stream",
     "text": [
      " 27%|█████████████████████▊                                                            | 16/60 [04:51<13:57, 19.03s/it]"
     ]
    },
    {
     "name": "stdout",
     "output_type": "stream",
     "text": [
      "\n",
      "The clean accuracy is:  98.64899974019225\n",
      "The attack success rate is:  100.0\n",
      "The pruned channel index is:  47\n",
      "361/361 [==============================] - 7s 20ms/step\n",
      "361/361 [==============================] - 7s 20ms/step\n"
     ]
    },
    {
     "name": "stderr",
     "output_type": "stream",
     "text": [
      " 28%|███████████████████████▏                                                          | 17/60 [05:10<13:44, 19.17s/it]"
     ]
    },
    {
     "name": "stdout",
     "output_type": "stream",
     "text": [
      "\n",
      "The clean accuracy is:  98.64899974019225\n",
      "The attack success rate is:  100.0\n",
      "The pruned channel index is:  48\n",
      "361/361 [==============================] - 7s 19ms/step\n",
      "361/361 [==============================] - 6s 18ms/step\n"
     ]
    },
    {
     "name": "stderr",
     "output_type": "stream",
     "text": [
      " 30%|████████████████████████▌                                                         | 18/60 [05:29<13:21, 19.09s/it]"
     ]
    },
    {
     "name": "stdout",
     "output_type": "stream",
     "text": [
      "\n",
      "The clean accuracy is:  98.64899974019225\n",
      "The attack success rate is:  100.0\n",
      "The pruned channel index is:  49\n",
      "361/361 [==============================] - 6s 17ms/step\n",
      "361/361 [==============================] - 7s 20ms/step\n"
     ]
    },
    {
     "name": "stderr",
     "output_type": "stream",
     "text": [
      " 32%|█████████████████████████▉                                                        | 19/60 [05:45<12:16, 17.95s/it]"
     ]
    },
    {
     "name": "stdout",
     "output_type": "stream",
     "text": [
      "\n",
      "The clean accuracy is:  98.64899974019225\n",
      "The attack success rate is:  100.0\n",
      "The pruned channel index is:  50\n",
      "361/361 [==============================] - 7s 18ms/step\n",
      "361/361 [==============================] - 7s 20ms/step\n"
     ]
    },
    {
     "name": "stderr",
     "output_type": "stream",
     "text": [
      " 33%|███████████████████████████▎                                                      | 20/60 [06:07<12:48, 19.22s/it]"
     ]
    },
    {
     "name": "stdout",
     "output_type": "stream",
     "text": [
      "\n",
      "The clean accuracy is:  98.64899974019225\n",
      "The attack success rate is:  100.0\n",
      "The pruned channel index is:  53\n",
      "361/361 [==============================] - 8s 21ms/step\n",
      "361/361 [==============================] - 8s 21ms/step\n"
     ]
    },
    {
     "name": "stderr",
     "output_type": "stream",
     "text": [
      " 35%|████████████████████████████▋                                                     | 21/60 [06:29<13:03, 20.10s/it]"
     ]
    },
    {
     "name": "stdout",
     "output_type": "stream",
     "text": [
      "\n",
      "The clean accuracy is:  98.64899974019225\n",
      "The attack success rate is:  100.0\n",
      "The pruned channel index is:  55\n",
      "361/361 [==============================] - 7s 19ms/step\n",
      "361/361 [==============================] - 7s 19ms/step\n"
     ]
    },
    {
     "name": "stderr",
     "output_type": "stream",
     "text": [
      " 37%|██████████████████████████████                                                    | 22/60 [06:48<12:29, 19.72s/it]"
     ]
    },
    {
     "name": "stdout",
     "output_type": "stream",
     "text": [
      "\n",
      "The clean accuracy is:  98.64899974019225\n",
      "The attack success rate is:  100.0\n",
      "The pruned channel index is:  40\n",
      "361/361 [==============================] - 5s 13ms/step\n",
      "361/361 [==============================] - 7s 19ms/step\n"
     ]
    },
    {
     "name": "stderr",
     "output_type": "stream",
     "text": [
      " 38%|███████████████████████████████▍                                                  | 23/60 [07:01<10:58, 17.79s/it]"
     ]
    },
    {
     "name": "stdout",
     "output_type": "stream",
     "text": [
      "\n",
      "The clean accuracy is:  98.64899974019225\n",
      "The attack success rate is:  100.0\n",
      "The pruned channel index is:  24\n",
      "361/361 [==============================] - 8s 21ms/step\n",
      "361/361 [==============================] - 7s 20ms/step\n"
     ]
    },
    {
     "name": "stderr",
     "output_type": "stream",
     "text": [
      " 40%|████████████████████████████████▊                                                 | 24/60 [07:23<11:25, 19.03s/it]"
     ]
    },
    {
     "name": "stdout",
     "output_type": "stream",
     "text": [
      "\n",
      "The clean accuracy is:  98.64899974019225\n",
      "The attack success rate is:  100.0\n",
      "The pruned channel index is:  59\n",
      "361/361 [==============================] - 7s 20ms/step\n",
      "361/361 [==============================] - 7s 20ms/step\n"
     ]
    },
    {
     "name": "stderr",
     "output_type": "stream",
     "text": [
      " 42%|██████████████████████████████████▏                                               | 25/60 [07:42<11:08, 19.09s/it]"
     ]
    },
    {
     "name": "stdout",
     "output_type": "stream",
     "text": [
      "\n",
      "The clean accuracy is:  98.64899974019225\n",
      "The attack success rate is:  100.0\n",
      "The pruned channel index is:  9\n",
      "361/361 [==============================] - 7s 19ms/step\n",
      "361/361 [==============================] - 4s 11ms/step\n"
     ]
    },
    {
     "name": "stderr",
     "output_type": "stream",
     "text": [
      " 43%|███████████████████████████████████▌                                              | 26/60 [07:56<09:57, 17.57s/it]"
     ]
    },
    {
     "name": "stdout",
     "output_type": "stream",
     "text": [
      "\n",
      "The clean accuracy is:  98.64899974019225\n",
      "The attack success rate is:  100.0\n",
      "The pruned channel index is:  2\n",
      "361/361 [==============================] - 5s 13ms/step\n",
      "361/361 [==============================] - 4s 12ms/step\n"
     ]
    },
    {
     "name": "stderr",
     "output_type": "stream",
     "text": [
      " 45%|████████████████████████████████████▉                                             | 27/60 [08:07<08:36, 15.65s/it]"
     ]
    },
    {
     "name": "stdout",
     "output_type": "stream",
     "text": [
      "\n",
      "The clean accuracy is:  98.64899974019225\n",
      "The attack success rate is:  100.0\n",
      "The pruned channel index is:  12\n",
      "361/361 [==============================] - 4s 11ms/step\n",
      "361/361 [==============================] - 4s 11ms/step\n"
     ]
    },
    {
     "name": "stderr",
     "output_type": "stream",
     "text": [
      " 47%|██████████████████████████████████████▎                                           | 28/60 [08:17<07:24, 13.88s/it]"
     ]
    },
    {
     "name": "stdout",
     "output_type": "stream",
     "text": [
      "\n",
      "The clean accuracy is:  98.64899974019225\n",
      "The attack success rate is:  100.0\n",
      "The pruned channel index is:  13\n",
      "361/361 [==============================] - 5s 12ms/step\n",
      "361/361 [==============================] - 7s 20ms/step\n"
     ]
    },
    {
     "name": "stderr",
     "output_type": "stream",
     "text": [
      " 48%|███████████████████████████████████████▋                                          | 29/60 [08:34<07:36, 14.71s/it]"
     ]
    },
    {
     "name": "stdout",
     "output_type": "stream",
     "text": [
      "\n",
      "The clean accuracy is:  98.64899974019225\n",
      "The attack success rate is:  100.0\n",
      "The pruned channel index is:  17\n",
      "361/361 [==============================] - 7s 20ms/step\n",
      "361/361 [==============================] - 7s 20ms/step\n"
     ]
    },
    {
     "name": "stderr",
     "output_type": "stream",
     "text": [
      " 50%|█████████████████████████████████████████                                         | 30/60 [08:56<08:27, 16.93s/it]"
     ]
    },
    {
     "name": "stdout",
     "output_type": "stream",
     "text": [
      "\n",
      "The clean accuracy is:  98.64899974019225\n",
      "The attack success rate is:  100.0\n",
      "The pruned channel index is:  14\n",
      "361/361 [==============================] - 7s 18ms/step\n",
      "361/361 [==============================] - 7s 20ms/step\n"
     ]
    },
    {
     "name": "stderr",
     "output_type": "stream",
     "text": [
      " 52%|██████████████████████████████████████████▎                                       | 31/60 [09:18<08:56, 18.49s/it]"
     ]
    },
    {
     "name": "stdout",
     "output_type": "stream",
     "text": [
      "\n",
      "The clean accuracy is:  98.64899974019225\n",
      "The attack success rate is:  100.0\n",
      "The pruned channel index is:  15\n",
      "361/361 [==============================] - 7s 20ms/step\n",
      "361/361 [==============================] - 8s 21ms/step\n"
     ]
    },
    {
     "name": "stderr",
     "output_type": "stream",
     "text": [
      " 53%|███████████████████████████████████████████▋                                      | 32/60 [09:40<09:09, 19.62s/it]"
     ]
    },
    {
     "name": "stdout",
     "output_type": "stream",
     "text": [
      "\n",
      "The clean accuracy is:  98.64899974019225\n",
      "The attack success rate is:  100.0\n",
      "The pruned channel index is:  23\n",
      "361/361 [==============================] - 6s 18ms/step\n",
      "361/361 [==============================] - 7s 21ms/step\n"
     ]
    },
    {
     "name": "stderr",
     "output_type": "stream",
     "text": [
      " 55%|█████████████████████████████████████████████                                     | 33/60 [10:02<09:09, 20.35s/it]"
     ]
    },
    {
     "name": "stdout",
     "output_type": "stream",
     "text": [
      "\n",
      "The clean accuracy is:  98.64899974019225\n",
      "The attack success rate is:  100.0\n",
      "The pruned channel index is:  6\n",
      "361/361 [==============================] - 7s 19ms/step\n",
      "361/361 [==============================] - 7s 21ms/step\n"
     ]
    },
    {
     "name": "stderr",
     "output_type": "stream",
     "text": [
      " 57%|██████████████████████████████████████████████▍                                   | 34/60 [10:22<08:41, 20.05s/it]"
     ]
    },
    {
     "name": "stdout",
     "output_type": "stream",
     "text": [
      "\n",
      "The clean accuracy is:  98.64033948211657\n",
      "The attack success rate is:  100.0\n",
      "The pruned channel index is:  51\n",
      "361/361 [==============================] - 8s 21ms/step\n",
      "361/361 [==============================] - 7s 21ms/step\n"
     ]
    },
    {
     "name": "stderr",
     "output_type": "stream",
     "text": [
      " 58%|███████████████████████████████████████████████▊                                  | 35/60 [10:44<08:37, 20.71s/it]"
     ]
    },
    {
     "name": "stdout",
     "output_type": "stream",
     "text": [
      "\n",
      "The clean accuracy is:  98.64033948211657\n",
      "The attack success rate is:  100.0\n",
      "The pruned channel index is:  32\n",
      "361/361 [==============================] - 7s 18ms/step\n",
      "361/361 [==============================] - 7s 20ms/step\n"
     ]
    },
    {
     "name": "stderr",
     "output_type": "stream",
     "text": [
      " 60%|█████████████████████████████████████████████████▏                                | 36/60 [11:06<08:26, 21.11s/it]"
     ]
    },
    {
     "name": "stdout",
     "output_type": "stream",
     "text": [
      "\n",
      "The clean accuracy is:  98.63167922404088\n",
      "The attack success rate is:  100.0\n",
      "The pruned channel index is:  22\n",
      "361/361 [==============================] - 8s 21ms/step\n",
      "361/361 [==============================] - 7s 20ms/step\n"
     ]
    },
    {
     "name": "stderr",
     "output_type": "stream",
     "text": [
      " 62%|██████████████████████████████████████████████████▌                               | 37/60 [11:26<07:54, 20.61s/it]"
     ]
    },
    {
     "name": "stdout",
     "output_type": "stream",
     "text": [
      "\n",
      "The clean accuracy is:  98.65765999826795\n",
      "The attack success rate is:  100.0\n",
      "The pruned channel index is:  21\n",
      "361/361 [==============================] - 5s 14ms/step\n",
      "361/361 [==============================] - 8s 21ms/step\n"
     ]
    },
    {
     "name": "stderr",
     "output_type": "stream",
     "text": [
      " 63%|███████████████████████████████████████████████████▉                              | 38/60 [11:48<07:43, 21.06s/it]"
     ]
    },
    {
     "name": "stdout",
     "output_type": "stream",
     "text": [
      "\n",
      "The clean accuracy is:  98.64899974019225\n",
      "The attack success rate is:  100.0\n",
      "The pruned channel index is:  20\n",
      "361/361 [==============================] - 8s 21ms/step\n",
      "361/361 [==============================] - 8s 21ms/step\n"
     ]
    },
    {
     "name": "stderr",
     "output_type": "stream",
     "text": [
      " 65%|█████████████████████████████████████████████████████▎                            | 39/60 [12:10<07:28, 21.34s/it]"
     ]
    },
    {
     "name": "stdout",
     "output_type": "stream",
     "text": [
      "\n",
      "The clean accuracy is:  98.6056984498138\n",
      "The attack success rate is:  100.0\n",
      "The pruned channel index is:  19\n",
      "361/361 [==============================] - 8s 21ms/step\n",
      "361/361 [==============================] - 8s 21ms/step\n"
     ]
    },
    {
     "name": "stderr",
     "output_type": "stream",
     "text": [
      " 67%|██████████████████████████████████████████████████████▋                           | 40/60 [12:29<06:55, 20.78s/it]"
     ]
    },
    {
     "name": "stdout",
     "output_type": "stream",
     "text": [
      "\n",
      "The clean accuracy is:  98.57105741751104\n",
      "The attack success rate is:  100.0\n",
      "The pruned channel index is:  43\n",
      "361/361 [==============================] - 8s 21ms/step\n",
      "361/361 [==============================] - 7s 21ms/step\n"
     ]
    },
    {
     "name": "stderr",
     "output_type": "stream",
     "text": [
      " 68%|████████████████████████████████████████████████████████                          | 41/60 [12:51<06:43, 21.22s/it]"
     ]
    },
    {
     "name": "stdout",
     "output_type": "stream",
     "text": [
      "\n",
      "The clean accuracy is:  98.53641638520828\n",
      "The attack success rate is:  100.0\n",
      "The pruned channel index is:  58\n",
      "361/361 [==============================] - 4s 10ms/step\n",
      "361/361 [==============================] - 4s 11ms/step\n"
     ]
    },
    {
     "name": "stderr",
     "output_type": "stream",
     "text": [
      " 70%|█████████████████████████████████████████████████████████▍                        | 42/60 [13:02<05:24, 18.05s/it]"
     ]
    },
    {
     "name": "stdout",
     "output_type": "stream",
     "text": [
      "\n",
      "The clean accuracy is:  98.19000606218066\n",
      "The attack success rate is:  100.0\n",
      "The pruned channel index is:  3\n",
      "361/361 [==============================] - 4s 12ms/step\n",
      "361/361 [==============================] - 4s 11ms/step\n"
     ]
    },
    {
     "name": "stderr",
     "output_type": "stream",
     "text": [
      " 72%|██████████████████████████████████████████████████████████▊                       | 43/60 [13:13<04:31, 16.00s/it]"
     ]
    },
    {
     "name": "stdout",
     "output_type": "stream",
     "text": [
      "\n",
      "The clean accuracy is:  97.65307006148784\n",
      "The attack success rate is:  100.0\n",
      "The pruned channel index is:  42\n",
      "361/361 [==============================] - 4s 12ms/step\n",
      "361/361 [==============================] - 7s 20ms/step\n"
     ]
    },
    {
     "name": "stderr",
     "output_type": "stream",
     "text": [
      " 73%|████████████████████████████████████████████████████████████▏                     | 44/60 [13:30<04:21, 16.34s/it]"
     ]
    },
    {
     "name": "stdout",
     "output_type": "stream",
     "text": [
      "\n",
      "The clean accuracy is:  97.50584567420108\n",
      "The attack success rate is:  100.0\n",
      "The pruned channel index is:  1\n",
      "361/361 [==============================] - 8s 21ms/step\n",
      "The accuracy drops at least 2%, saved the model\n",
      "WARNING:tensorflow:Compiled the loaded model, but the compiled metrics have yet to be built. `model.compile_metrics` will be empty until you train or evaluate the model.\n",
      "361/361 [==============================] - 7s 20ms/step\n"
     ]
    },
    {
     "name": "stderr",
     "output_type": "stream",
     "text": [
      " 75%|█████████████████████████████████████████████████████████████▌                    | 45/60 [13:52<04:31, 18.09s/it]"
     ]
    },
    {
     "name": "stdout",
     "output_type": "stream",
     "text": [
      "\n",
      "The clean accuracy is:  95.75647354291158\n",
      "The attack success rate is:  100.0\n",
      "The pruned channel index is:  29\n",
      "361/361 [==============================] - 8s 21ms/step\n",
      "361/361 [==============================] - 7s 20ms/step\n"
     ]
    },
    {
     "name": "stderr",
     "output_type": "stream",
     "text": [
      " 77%|██████████████████████████████████████████████████████████████▊                   | 46/60 [14:15<04:29, 19.27s/it]"
     ]
    },
    {
     "name": "stdout",
     "output_type": "stream",
     "text": [
      "\n",
      "The clean accuracy is:  95.20221702606739\n",
      "The attack success rate is:  99.9913397419243\n",
      "The pruned channel index is:  16\n",
      "361/361 [==============================] - 7s 20ms/step\n",
      "361/361 [==============================] - 8s 21ms/step\n"
     ]
    },
    {
     "name": "stderr",
     "output_type": "stream",
     "text": [
      " 78%|████████████████████████████████████████████████████████████████▏                 | 47/60 [14:34<04:12, 19.42s/it]"
     ]
    },
    {
     "name": "stdout",
     "output_type": "stream",
     "text": [
      "\n",
      "The clean accuracy is:  94.7172425738287\n",
      "The attack success rate is:  99.9913397419243\n",
      "The pruned channel index is:  56\n",
      "361/361 [==============================] - 8s 21ms/step\n",
      "The accuracy drops at least 4%, saved the model\n",
      "WARNING:tensorflow:Compiled the loaded model, but the compiled metrics have yet to be built. `model.compile_metrics` will be empty until you train or evaluate the model.\n",
      "361/361 [==============================] - 7s 20ms/step\n"
     ]
    },
    {
     "name": "stderr",
     "output_type": "stream",
     "text": [
      " 80%|█████████████████████████████████████████████████████████████████▌                | 48/60 [14:53<03:52, 19.34s/it]"
     ]
    },
    {
     "name": "stdout",
     "output_type": "stream",
     "text": [
      "\n",
      "The clean accuracy is:  92.09318437689443\n",
      "The attack success rate is:  99.9913397419243\n",
      "The pruned channel index is:  46\n",
      "361/361 [==============================] - 7s 19ms/step\n",
      "361/361 [==============================] - 7s 19ms/step\n"
     ]
    },
    {
     "name": "stderr",
     "output_type": "stream",
     "text": [
      " 82%|██████████████████████████████████████████████████████████████████▉               | 49/60 [15:12<03:31, 19.21s/it]"
     ]
    },
    {
     "name": "stdout",
     "output_type": "stream",
     "text": [
      "\n",
      "The clean accuracy is:  91.49562656967177\n",
      "The attack success rate is:  99.9913397419243\n",
      "The pruned channel index is:  5\n",
      "361/361 [==============================] - 7s 20ms/step\n",
      "361/361 [==============================] - 7s 21ms/step\n"
     ]
    },
    {
     "name": "stderr",
     "output_type": "stream",
     "text": [
      " 83%|████████████████████████████████████████████████████████████████████▎             | 50/60 [15:35<03:20, 20.10s/it]"
     ]
    },
    {
     "name": "stdout",
     "output_type": "stream",
     "text": [
      "\n",
      "The clean accuracy is:  91.01931237550879\n",
      "The attack success rate is:  99.98267948384861\n",
      "The pruned channel index is:  8\n",
      "361/361 [==============================] - 7s 18ms/step\n",
      "361/361 [==============================] - 8s 21ms/step\n"
     ]
    },
    {
     "name": "stderr",
     "output_type": "stream",
     "text": [
      " 85%|█████████████████████████████████████████████████████████████████████▋            | 51/60 [15:56<03:05, 20.66s/it]"
     ]
    },
    {
     "name": "stdout",
     "output_type": "stream",
     "text": [
      "\n",
      "The clean accuracy is:  89.17467740538669\n",
      "The attack success rate is:  80.73958603966398\n",
      "The pruned channel index is:  11\n",
      "361/361 [==============================] - 8s 21ms/step\n",
      "The accuracy drops at least 10%, saved the model\n",
      "WARNING:tensorflow:Compiled the loaded model, but the compiled metrics have yet to be built. `model.compile_metrics` will be empty until you train or evaluate the model.\n",
      "361/361 [==============================] - 6s 17ms/step\n"
     ]
    },
    {
     "name": "stderr",
     "output_type": "stream",
     "text": [
      " 87%|███████████████████████████████████████████████████████████████████████           | 52/60 [16:19<02:48, 21.08s/it]"
     ]
    },
    {
     "name": "stdout",
     "output_type": "stream",
     "text": [
      "\n",
      "The clean accuracy is:  84.43751623798389\n",
      "The attack success rate is:  77.015675067117\n",
      "The pruned channel index is:  54\n",
      "361/361 [==============================] - 5s 15ms/step\n",
      "361/361 [==============================] - 7s 20ms/step\n"
     ]
    },
    {
     "name": "stderr",
     "output_type": "stream",
     "text": [
      " 88%|████████████████████████████████████████████████████████████████████████▍         | 53/60 [16:33<02:13, 19.08s/it]"
     ]
    },
    {
     "name": "stdout",
     "output_type": "stream",
     "text": [
      "\n",
      "The clean accuracy is:  76.48739932449988\n",
      "The attack success rate is:  35.71490430414826\n",
      "The pruned channel index is:  10\n",
      "361/361 [==============================] - 7s 19ms/step\n",
      "361/361 [==============================] - 7s 20ms/step\n"
     ]
    },
    {
     "name": "stderr",
     "output_type": "stream",
     "text": [
      " 90%|█████████████████████████████████████████████████████████████████████████▊        | 54/60 [16:52<01:54, 19.06s/it]"
     ]
    },
    {
     "name": "stdout",
     "output_type": "stream",
     "text": [
      "\n",
      "The clean accuracy is:  54.8627349095003\n",
      "The attack success rate is:  6.954187234779596\n",
      "The pruned channel index is:  28\n",
      "361/361 [==============================] - 6s 16ms/step\n",
      "361/361 [==============================] - 7s 20ms/step\n"
     ]
    },
    {
     "name": "stderr",
     "output_type": "stream",
     "text": [
      " 92%|███████████████████████████████████████████████████████████████████████████▏      | 55/60 [17:11<01:35, 19.09s/it]"
     ]
    },
    {
     "name": "stdout",
     "output_type": "stream",
     "text": [
      "\n",
      "The clean accuracy is:  27.08928726076037\n",
      "The attack success rate is:  0.4243526457088421\n",
      "The pruned channel index is:  35\n",
      "361/361 [==============================] - 6s 18ms/step\n",
      "361/361 [==============================] - 7s 20ms/step\n"
     ]
    },
    {
     "name": "stderr",
     "output_type": "stream",
     "text": [
      " 93%|████████████████████████████████████████████████████████████████████████████▌     | 56/60 [17:30<01:15, 18.91s/it]"
     ]
    },
    {
     "name": "stdout",
     "output_type": "stream",
     "text": [
      "\n",
      "The clean accuracy is:  13.87373343725643\n",
      "The attack success rate is:  0.0\n",
      "The pruned channel index is:  18\n",
      "361/361 [==============================] - 6s 17ms/step\n",
      "361/361 [==============================] - 7s 18ms/step\n"
     ]
    },
    {
     "name": "stderr",
     "output_type": "stream",
     "text": [
      " 95%|█████████████████████████████████████████████████████████████████████████████▉    | 57/60 [17:48<00:56, 18.80s/it]"
     ]
    },
    {
     "name": "stdout",
     "output_type": "stream",
     "text": [
      "\n",
      "The clean accuracy is:  7.101411622066338\n",
      "The attack success rate is:  0.0\n",
      "The pruned channel index is:  4\n",
      "361/361 [==============================] - 6s 16ms/step\n",
      "361/361 [==============================] - 4s 11ms/step\n"
     ]
    },
    {
     "name": "stderr",
     "output_type": "stream",
     "text": [
      " 97%|███████████████████████████████████████████████████████████████████████████████▎  | 58/60 [18:01<00:33, 16.92s/it]"
     ]
    },
    {
     "name": "stdout",
     "output_type": "stream",
     "text": [
      "\n",
      "The clean accuracy is:  1.5501861955486274\n",
      "The attack success rate is:  0.0\n",
      "The pruned channel index is:  7\n",
      "361/361 [==============================] - 4s 10ms/step\n",
      "361/361 [==============================] - 4s 10ms/step\n"
     ]
    },
    {
     "name": "stderr",
     "output_type": "stream",
     "text": [
      " 98%|████████████████████████████████████████████████████████████████████████████████▋ | 59/60 [18:11<00:15, 15.05s/it]"
     ]
    },
    {
     "name": "stdout",
     "output_type": "stream",
     "text": [
      "\n",
      "The clean accuracy is:  0.7188014202823244\n",
      "The attack success rate is:  0.0\n",
      "The pruned channel index is:  52\n",
      "361/361 [==============================] - 4s 10ms/step\n",
      "361/361 [==============================] - 5s 15ms/step\n"
     ]
    },
    {
     "name": "stderr",
     "output_type": "stream",
     "text": [
      "100%|██████████████████████████████████████████████████████████████████████████████████| 60/60 [18:22<00:00, 18.38s/it]"
     ]
    },
    {
     "name": "stdout",
     "output_type": "stream",
     "text": [
      "\n",
      "The clean accuracy is:  0.0779423226812159\n",
      "The attack success rate is:  0.0\n",
      "The pruned channel index is:  57\n"
     ]
    },
    {
     "name": "stderr",
     "output_type": "stream",
     "text": [
      "\n"
     ]
    }
   ],
   "source": [
    "model_copy = keras.models.clone_model(model)\n",
    "model_copy.set_weights(model.get_weights()) \n",
    "prune_index = []\n",
    "clean_acc = []\n",
    "asrate = []\n",
    "saved_model = np.zeros(3,dtype=bool)\n",
    "clean_data_acc = 98.64899974019225\n",
    "\n",
    "# getting the activation from the last pooling layer\n",
    "layer_output=model_copy.get_layer('pool_3').output\n",
    "intermediate_model=keras.models.Model(inputs=model_copy.input,outputs=layer_output)\n",
    "intermediate_prediction=intermediate_model.predict(cl_x_test)  \n",
    "temp = np.mean(intermediate_prediction,axis=(0,1,2))\n",
    "seq = np.argsort(temp)\n",
    "weight_0 = model_copy.layers[5].get_weights()[0]\n",
    "bias_0 = model_copy.layers[5].get_weights()[1]\n",
    "\n",
    "for channel_index in tqdm(seq): \n",
    "  weight_0[:,:,:,channel_index] = 0\n",
    "  bias_0[channel_index] = 0\n",
    "  model_copy.layers[5].set_weights([weight_0, bias_0])\n",
    "  cl_label_p = np.argmax(model_copy.predict(cl_x_test), axis=1)\n",
    "  clean_accuracy = np.mean(np.equal(cl_label_p, cl_y_test))*100\n",
    "  if (clean_data_acc-clean_accuracy >= 2 and not saved_model[0]):\n",
    "    print(\"The accuracy drops at least 2%, saved the model\")\n",
    "    model_copy.save('model_X=2.h5')\n",
    "    saved_model[0] = 1\n",
    "  if (clean_data_acc-clean_accuracy >= 4 and not saved_model[1]):\n",
    "    print(\"The accuracy drops at least 4%, saved the model\")\n",
    "    model_copy.save('model_X=4.h5')\n",
    "    saved_model[1] = 1\n",
    "  if (clean_data_acc-clean_accuracy >= 10 and not saved_model[2]):\n",
    "    print(\"The accuracy drops at least 10%, saved the model\")\n",
    "    model_copy.save('model_X=10.h5')\n",
    "    saved_model[2] = 1\n",
    "  clean_acc.append(clean_accuracy)\n",
    "  bd_label_p = np.argmax(model_copy.predict(bd_x_test), axis=1)\n",
    "  asr = np.mean(np.equal(bd_label_p, bd_y_test))*100\n",
    "  asrate.append(asr)\n",
    "  print()\n",
    "  print(\"The clean accuracy is: \",clean_accuracy)\n",
    "  print(\"The attack success rate is: \",asr)\n",
    "  print(\"The pruned channel index is: \",channel_index)\n",
    "  keras.backend.clear_session()\n"
   ]
  },
  {
   "cell_type": "markdown",
   "metadata": {
    "id": "27sbljLPkjFH"
   },
   "source": [
    "**NOTE:** We can observe that the defense is not too successful as the accuracy is sacrificed."
   ]
  },
  {
   "cell_type": "code",
   "execution_count": 64,
   "metadata": {
    "colab": {
     "base_uri": "https://localhost:8080/"
    },
    "id": "vUBPwn0Lubn8",
    "outputId": "9f37ed18-977e-4742-e20d-9654c9db2239"
   },
   "outputs": [
    {
     "name": "stdout",
     "output_type": "stream",
     "text": [
      "clean_accuracy:  [98.64899974019225, 98.64899974019225, 98.64899974019225, 98.64899974019225, 98.64899974019225, 98.64899974019225, 98.64899974019225, 98.64899974019225, 98.64899974019225, 98.64899974019225, 98.64899974019225, 98.64899974019225, 98.64899974019225, 98.64899974019225, 98.64899974019225, 98.64899974019225, 98.64899974019225, 98.64899974019225, 98.64899974019225, 98.64899974019225, 98.64899974019225, 98.64899974019225, 98.64899974019225, 98.64899974019225, 98.64899974019225, 98.64899974019225, 98.64899974019225, 98.64899974019225, 98.64899974019225, 98.64899974019225, 98.64899974019225, 98.64899974019225, 98.64899974019225, 98.64033948211657, 98.64033948211657, 98.63167922404088, 98.65765999826795, 98.64899974019225, 98.6056984498138, 98.57105741751104, 98.53641638520828, 98.19000606218066, 97.65307006148784, 97.50584567420108, 95.75647354291158, 95.20221702606739, 94.7172425738287, 92.09318437689443, 91.49562656967177, 91.01931237550879, 89.17467740538669, 84.43751623798389, 76.48739932449988, 54.8627349095003, 27.08928726076037, 13.87373343725643, 7.101411622066338, 1.5501861955486274, 0.7188014202823244, 0.0779423226812159]\n",
      "attack success rate:  [100.0, 100.0, 100.0, 100.0, 100.0, 100.0, 100.0, 100.0, 100.0, 100.0, 100.0, 100.0, 100.0, 100.0, 100.0, 100.0, 100.0, 100.0, 100.0, 100.0, 100.0, 100.0, 100.0, 100.0, 100.0, 100.0, 100.0, 100.0, 100.0, 100.0, 100.0, 100.0, 100.0, 100.0, 100.0, 100.0, 100.0, 100.0, 100.0, 100.0, 100.0, 100.0, 100.0, 100.0, 100.0, 99.9913397419243, 99.9913397419243, 99.9913397419243, 99.9913397419243, 99.98267948384861, 80.73958603966398, 77.015675067117, 35.71490430414826, 6.954187234779596, 0.4243526457088421, 0.0, 0.0, 0.0, 0.0, 0.0]\n"
     ]
    }
   ],
   "source": [
    "print(\"clean_accuracy: \", clean_acc)\n",
    "print(\"attack success rate: \", asrate)"
   ]
  },
  {
   "cell_type": "code",
   "execution_count": 65,
   "metadata": {
    "colab": {
     "base_uri": "https://localhost:8080/",
     "height": 312
    },
    "id": "06DL1vGAeKUX",
    "outputId": "03e200a4-005d-4e91-a748-17547c5e76df"
   },
   "outputs": [
    {
     "data": {
      "text/plain": [
       "Text(0.5, 1.0, 'accuracy and attack success rate for validation dataset')"
      ]
     },
     "execution_count": 65,
     "metadata": {},
     "output_type": "execute_result"
    },
    {
     "data": {
      "image/png": "[encoded data removed]",
      "text/plain": [
       "<Figure size 640x480 with 1 Axes>"
      ]
     },
     "metadata": {},
     "output_type": "display_data"
    }
   ],
   "source": [
    "x_axis = np.arange(1,61)/60\n",
    "plt.plot(x_axis,clean_acc)\n",
    "plt.plot(x_axis,asrate)\n",
    "plt.legend(['clean_accuracy','attack success rate'])\n",
    "plt.xlabel(\"fraction of pruned channels\")\n",
    "plt.ylabel(\"rate\")\n",
    "plt.title(\"accuracy and attack success rate for validation dataset\")"
   ]
  },
  {
   "cell_type": "code",
   "execution_count": 66,
   "metadata": {
    "colab": {
     "base_uri": "https://localhost:8080/"
    },
    "id": "wkPnRDg1iIXR",
    "outputId": "2d6e28eb-619b-4856-df55-92d21089037b"
   },
   "outputs": [
    {
     "name": "stdout",
     "output_type": "stream",
     "text": [
      "The attack success rate when the accuracy drops at least 30%:  6.954187234779596\n"
     ]
    }
   ],
   "source": [
    "index = np.where(np.array(clean_acc) <= (clean_data_acc-30))[0]\n",
    "print(\"The attack success rate when the accuracy drops at least 30%: \", asrate[index[0]])"
   ]
  },
  {
   "cell_type": "markdown",
   "metadata": {
    "id": "sCfsP5nZmT5Q"
   },
   "source": [
    "## Combining the models\n",
    "\n",
    "Here we combine two models which are $B$ (original badnet model) and $B'$ (pruned model). The combined model is the *goodnet*. If the preditions from $B$ and $B'$ are the same then the *goodnet* will output the predition."
   ]
  },
  {
   "cell_type": "code",
   "execution_count": 67,
   "metadata": {
    "id": "6E00xt5RiwVi"
   },
   "outputs": [],
   "source": [
    "class G(keras.Model):\n",
    "  def __init__(self, B, B_prime):\n",
    "      super(G, self).__init__()\n",
    "      self.B = B\n",
    "      self.B_prime = B_prime\n",
    "\n",
    "  def predict(self,data):\n",
    "      y = np.argmax(self.B(data), axis=1)\n",
    "      y_prime = np.argmax(self.B_prime(data), axis=1)\n",
    "      pred = np.zeros(data.shape[0])\n",
    "      for i in range(data.shape[0]):\n",
    "        if y[i]==y_prime[i]:\n",
    "          pred[i] = y[i]\n",
    "        else:\n",
    "          pred[i] = 1283\n",
    "      return pred"
   ]
  },
  {
   "cell_type": "markdown",
   "metadata": {
    "id": "1VzGeAwDrZu2"
   },
   "source": [
    "## Evaluate the combined model"
   ]
  },
  {
   "cell_type": "code",
   "execution_count": 68,
   "metadata": {
    "id": "lC0cTvx4rdHP"
   },
   "outputs": [],
   "source": [
    "test_data_filename = 'C:/Users/cl/test.h5'\n",
    "poisoned_test_data_filename = 'C:/Users/bd/bd_test.h5'\n",
    "test_model_X_2_filename = 'C:/Users/model_X=2.h5'\n",
    "test_model_X_4_filename = 'C:/Users/model_X=4.h5'\n",
    "test_model_X_10_filename = 'C:/Users/model_X=10.h5'"
   ]
  },
  {
   "cell_type": "code",
   "execution_count": 69,
   "metadata": {
    "colab": {
     "base_uri": "https://localhost:8080/"
    },
    "id": "HBbWyybw_D3Z",
    "outputId": "5bf0ad0f-f778-4afa-d34e-b2a17b595e48"
   },
   "outputs": [
    {
     "name": "stdout",
     "output_type": "stream",
     "text": [
      "WARNING:tensorflow:No training configuration found in the save file, so the model was *not* compiled. Compile it manually.\n",
      "WARNING:tensorflow:No training configuration found in the save file, so the model was *not* compiled. Compile it manually.\n",
      "WARNING:tensorflow:No training configuration found in the save file, so the model was *not* compiled. Compile it manually.\n"
     ]
    }
   ],
   "source": [
    "test_model_X_2 = keras.models.load_model(test_model_X_2_filename)\n",
    "test_model_X_4 = keras.models.load_model(test_model_X_4_filename)\n",
    "test_model_X_10 = keras.models.load_model(test_model_X_10_filename)"
   ]
  },
  {
   "cell_type": "markdown",
   "metadata": {
    "id": "rmTymKio-iw2"
   },
   "source": [
    "Ignore the warnings"
   ]
  },
  {
   "cell_type": "code",
   "execution_count": 70,
   "metadata": {
    "id": "cfIBhRFb_IkB"
   },
   "outputs": [],
   "source": [
    "x_test_data, y_test_data = data_loader(test_data_filename)\n",
    "x_test_poisoned_data, y_test_poisnoed_data = data_loader(poisoned_test_data_filename)"
   ]
  },
  {
   "cell_type": "code",
   "execution_count": 71,
   "metadata": {
    "colab": {
     "base_uri": "https://localhost:8080/"
    },
    "id": "Vl9gm6Uy_rHz",
    "outputId": "c60c1dd5-86af-47d6-db80-4dbbfc4516db"
   },
   "outputs": [
    {
     "name": "stdout",
     "output_type": "stream",
     "text": [
      "x_test_data shape:  (12830, 55, 47, 3)\n",
      "x_test_poisoned data shape:  (12830, 55, 47, 3)\n"
     ]
    }
   ],
   "source": [
    "print(\"x_test_data shape: \",x_test_data.shape)\n",
    "print(\"x_test_poisoned data shape: \",x_test_poisoned_data.shape)"
   ]
  },
  {
   "cell_type": "code",
   "execution_count": 72,
   "metadata": {
    "id": "7BKLN0LRG38W"
   },
   "outputs": [],
   "source": [
    "G_model_X_2 = G(model, test_model_X_2)\n",
    "G_model_X_4 = G(model, test_model_X_4)\n",
    "G_model_X_10 = G(model, test_model_X_10)"
   ]
  },
  {
   "cell_type": "markdown",
   "metadata": {
    "id": "i09cmgaSKErk"
   },
   "source": [
    "### Evaluating on the test dataset"
   ]
  },
  {
   "cell_type": "code",
   "execution_count": 73,
   "metadata": {
    "colab": {
     "base_uri": "https://localhost:8080/"
    },
    "id": "gYOBO0IJGQ0b",
    "outputId": "d27a52fd-03dc-41a4-c5f4-5c17769581bc"
   },
   "outputs": [
    {
     "name": "stdout",
     "output_type": "stream",
     "text": [
      "401/401 [==============================] - 6s 16ms/step\n",
      "2% drops model, the clean test data Classification accuracy: 95.90023382696803\n",
      "401/401 [==============================] - 8s 21ms/step\n",
      "2% drops model, Attack Success Rate: 100.0\n",
      "401/401 [==============================] - 8s 21ms/step\n",
      "4% drops model, the clean test data classification accuracy: 92.29150428682775\n",
      "401/401 [==============================] - 8s 21ms/step\n",
      "4% drops model, Attack Success Rate: 99.98441153546376\n",
      "401/401 [==============================] - 8s 19ms/step\n",
      "10% drops model, the clean test data classification accuracy: 84.54403741231489\n",
      "401/401 [==============================] - 8s 19ms/step\n",
      "10% drops model, Attack Success Rate: 77.20966484801247\n"
     ]
    }
   ],
   "source": [
    "cl_test_2_label_p = np.argmax(test_model_X_2.predict(x_test_data), axis=1)\n",
    "clean_test_2_accuracy = np.mean(np.equal(cl_test_2_label_p, y_test_data))*100\n",
    "print('2% drops model, the clean test data Classification accuracy:', clean_test_2_accuracy)\n",
    "\n",
    "bd_test_2_label_p = np.argmax(test_model_X_2.predict(x_test_poisoned_data), axis=1)\n",
    "asr_2 = np.mean(np.equal(bd_test_2_label_p, y_test_poisnoed_data))*100\n",
    "print('2% drops model, Attack Success Rate:', asr_2)\n",
    "\n",
    "cl_test_4_label_p = np.argmax(test_model_X_4.predict(x_test_data), axis=1)\n",
    "clean_test_4_accuracy = np.mean(np.equal(cl_test_4_label_p, y_test_data))*100\n",
    "print('4% drops model, the clean test data classification accuracy:', clean_test_4_accuracy)\n",
    "\n",
    "bd_test_4_label_p = np.argmax(test_model_X_4.predict(x_test_poisoned_data), axis=1)\n",
    "asr_4 = np.mean(np.equal(bd_test_4_label_p, y_test_poisnoed_data))*100\n",
    "print('4% drops model, Attack Success Rate:', asr_4)\n",
    "\n",
    "cl_test_10_label_p = np.argmax(test_model_X_10.predict(x_test_data), axis=1)\n",
    "clean_test_10_accuracy = np.mean(np.equal(cl_test_10_label_p, y_test_data))*100\n",
    "print('10% drops model, the clean test data classification accuracy:', clean_test_10_accuracy)\n",
    "\n",
    "bd_test_10_label_p = np.argmax(test_model_X_10.predict(x_test_poisoned_data), axis=1)\n",
    "asr_10 = np.mean(np.equal(bd_test_10_label_p, y_test_poisnoed_data))*100\n",
    "print('10% drops model, Attack Success Rate:', asr_10)"
   ]
  },
  {
   "cell_type": "markdown",
   "metadata": {
    "id": "tixKME3KO1EC"
   },
   "source": [
    "### Summarizing the fixed models"
   ]
  },
  {
   "cell_type": "code",
   "execution_count": 74,
   "metadata": {
    "colab": {
     "base_uri": "https://localhost:8080/",
     "height": 175
    },
    "id": "Q3cmQ_UKOmcU",
    "outputId": "9bb9a081-2703-486b-d1a6-a0d96b2f640e"
   },
   "outputs": [
    {
     "data": {
      "text/html": [
       "<div>\n",
       "<style scoped>\n",
       "    .dataframe tbody tr th:only-of-type {\n",
       "        vertical-align: middle;\n",
       "    }\n",
       "\n",
       "    .dataframe tbody tr th {\n",
       "        vertical-align: top;\n",
       "    }\n",
       "\n",
       "    .dataframe thead th {\n",
       "        text-align: right;\n",
       "    }\n",
       "</style>\n",
       "<table border=\"1\" class=\"dataframe\">\n",
       "  <thead>\n",
       "    <tr style=\"text-align: right;\">\n",
       "      <th></th>\n",
       "      <th>text_acc</th>\n",
       "      <th>attack_rate</th>\n",
       "    </tr>\n",
       "    <tr>\n",
       "      <th>model</th>\n",
       "      <th></th>\n",
       "      <th></th>\n",
       "    </tr>\n",
       "  </thead>\n",
       "  <tbody>\n",
       "    <tr>\n",
       "      <th>repaired_2%</th>\n",
       "      <td>95.900234</td>\n",
       "      <td>100.000000</td>\n",
       "    </tr>\n",
       "    <tr>\n",
       "      <th>repaired_4%</th>\n",
       "      <td>92.291504</td>\n",
       "      <td>99.984412</td>\n",
       "    </tr>\n",
       "    <tr>\n",
       "      <th>repaired_10%</th>\n",
       "      <td>84.544037</td>\n",
       "      <td>77.209665</td>\n",
       "    </tr>\n",
       "  </tbody>\n",
       "</table>\n",
       "</div>"
      ],
      "text/plain": [
       "               text_acc  attack_rate\n",
       "model                               \n",
       "repaired_2%   95.900234   100.000000\n",
       "repaired_4%   92.291504    99.984412\n",
       "repaired_10%  84.544037    77.209665"
      ]
     },
     "execution_count": 74,
     "metadata": {},
     "output_type": "execute_result"
    }
   ],
   "source": [
    "test_acc = [clean_test_2_accuracy, clean_test_4_accuracy, clean_test_10_accuracy]\n",
    "attack_rate = [asr_2, asr_4, asr_10]\n",
    "data = {\n",
    "    \"text_acc\": test_acc,\n",
    "    \"attack_rate\": attack_rate,\n",
    "    \"model\": [\"repaired_2%\", \"repaired_4%\", \"repaired_10%\"]\n",
    "}\n",
    "df = pd.DataFrame(data)\n",
    "df.set_index('model')"
   ]
  },
  {
   "cell_type": "code",
   "execution_count": 75,
   "metadata": {
    "colab": {
     "base_uri": "https://localhost:8080/",
     "height": 312
    },
    "id": "hR7rVgurREls",
    "outputId": "54955674-d962-42e7-d9a7-e2dbdfc898ab"
   },
   "outputs": [
    {
     "data": {
      "image/png": "[encoded data removed]",
      "text/plain": [
       "<Figure size 640x480 with 1 Axes>"
      ]
     },
     "metadata": {},
     "output_type": "display_data"
    }
   ],
   "source": [
    "opacity = 0.4\n",
    "bar_width = 0.35\n",
    "\n",
    "plt.xlabel('% drops model')\n",
    "plt.ylabel('Rate')\n",
    "\n",
    "plt.xticks(range(len(test_acc)),('2%', '4%', '10%'))\n",
    "bar1 = plt.bar(np.arange(len(test_acc)) + bar_width, test_acc, bar_width, align='center', alpha=opacity, color='b', label='accuracy')\n",
    "bar2 = plt.bar(range(len(attack_rate)), attack_rate, bar_width, align='center', alpha=opacity, color='r', label='attack rate')\n",
    "\n",
    "# Add counts above the two bar graphs\n",
    "for rect in bar1 + bar2:\n",
    "    height = rect.get_height()\n",
    "    plt.text(rect.get_x() + rect.get_width() / 2.0, height, f'{height:.02f}', ha='center', va='bottom')\n",
    "\n",
    "plt.legend(bbox_to_anchor=(1.4, 1))\n",
    "plt.tight_layout()\n",
    "plt.title('performance of repaired model')\n",
    "sns.despine()\n",
    "plt.show()"
   ]
  },
  {
   "cell_type": "markdown",
   "metadata": {
    "id": "vxOjhRmxpWtg"
   },
   "source": [
    "These are the *goodnets* which combine the two models that are the original badnet and the 'fixed' model"
   ]
  },
  {
   "cell_type": "code",
   "execution_count": 76,
   "metadata": {
    "colab": {
     "base_uri": "https://localhost:8080/"
    },
    "id": "98mQEY9Eogew",
    "outputId": "4e649b8c-6991-4cb1-c26c-2d797b1797bb"
   },
   "outputs": [
    {
     "name": "stdout",
     "output_type": "stream",
     "text": [
      "Combined 2% drops model, the clean test data Classification accuracy: 95.90023382696803\n",
      "Combined 2% drops model, Attack Success Rate: 100.0\n",
      "Combined 4% drops model, the clean test data Classification accuracy: 92.29150428682775\n",
      "Combined 4% drops model, Attack Success Rate: 99.98441153546376\n",
      "Combined 10% drops model, the clean test data Classification accuracy: 84.54403741231489\n",
      "Combined 10% drops model, Attack Success Rate: 77.20966484801247\n"
     ]
    }
   ],
   "source": [
    "G_cl_test_2_label_p = G_model_X_2.predict(x_test_data)\n",
    "G_clean_test_2_accuracy = np.mean(np.equal(cl_test_2_label_p, y_test_data))*100\n",
    "print('Combined 2% drops model, the clean test data Classification accuracy:', G_clean_test_2_accuracy)\n",
    "\n",
    "G_bd_test_2_label_p = G_model_X_2.predict(x_test_poisoned_data)\n",
    "G_asr_2 = np.mean(np.equal(bd_test_2_label_p, y_test_poisnoed_data))*100\n",
    "print('Combined 2% drops model, Attack Success Rate:', G_asr_2)\n",
    "\n",
    "G_cl_test_4_label_p = G_model_X_4.predict(x_test_data)\n",
    "G_clean_test_4_accuracy = np.mean(np.equal(cl_test_4_label_p, y_test_data))*100\n",
    "print('Combined 4% drops model, the clean test data Classification accuracy:', G_clean_test_4_accuracy)\n",
    "\n",
    "G_bd_test_4_label_p = G_model_X_4.predict(x_test_poisoned_data)\n",
    "G_asr_4 = np.mean(np.equal(bd_test_4_label_p, y_test_poisnoed_data))*100\n",
    "print('Combined 4% drops model, Attack Success Rate:', G_asr_4)\n",
    "\n",
    "G_cl_test_10_label_p = G_model_X_10.predict(x_test_data)\n",
    "G_clean_test_10_accuracy = np.mean(np.equal(cl_test_10_label_p, y_test_data))*100\n",
    "print('Combined 10% drops model, the clean test data Classification accuracy:', G_clean_test_10_accuracy)\n",
    "\n",
    "G_bd_test_10_label_p = G_model_X_10.predict(x_test_poisoned_data)\n",
    "G_asr_10 = np.mean(np.equal(bd_test_10_label_p, y_test_poisnoed_data))*100\n",
    "print('Combined 10% drops model, Attack Success Rate:', G_asr_10)"
   ]
  },
  {
   "cell_type": "code",
   "execution_count": 77,
   "metadata": {
    "colab": {
     "base_uri": "https://localhost:8080/",
     "height": 175
    },
    "id": "9VgzlpEyqeKK",
    "outputId": "433b5a35-cc85-44c4-9456-2f77c38bf37e"
   },
   "outputs": [
    {
     "data": {
      "text/html": [
       "<div>\n",
       "<style scoped>\n",
       "    .dataframe tbody tr th:only-of-type {\n",
       "        vertical-align: middle;\n",
       "    }\n",
       "\n",
       "    .dataframe tbody tr th {\n",
       "        vertical-align: top;\n",
       "    }\n",
       "\n",
       "    .dataframe thead th {\n",
       "        text-align: right;\n",
       "    }\n",
       "</style>\n",
       "<table border=\"1\" class=\"dataframe\">\n",
       "  <thead>\n",
       "    <tr style=\"text-align: right;\">\n",
       "      <th></th>\n",
       "      <th>G_text_acc</th>\n",
       "      <th>G_attack_rate</th>\n",
       "    </tr>\n",
       "    <tr>\n",
       "      <th>G_model</th>\n",
       "      <th></th>\n",
       "      <th></th>\n",
       "    </tr>\n",
       "  </thead>\n",
       "  <tbody>\n",
       "    <tr>\n",
       "      <th>G_2%</th>\n",
       "      <td>95.900234</td>\n",
       "      <td>100.000000</td>\n",
       "    </tr>\n",
       "    <tr>\n",
       "      <th>G_4%</th>\n",
       "      <td>92.291504</td>\n",
       "      <td>99.984412</td>\n",
       "    </tr>\n",
       "    <tr>\n",
       "      <th>G_10%</th>\n",
       "      <td>84.544037</td>\n",
       "      <td>77.209665</td>\n",
       "    </tr>\n",
       "  </tbody>\n",
       "</table>\n",
       "</div>"
      ],
      "text/plain": [
       "         G_text_acc  G_attack_rate\n",
       "G_model                           \n",
       "G_2%      95.900234     100.000000\n",
       "G_4%      92.291504      99.984412\n",
       "G_10%     84.544037      77.209665"
      ]
     },
     "execution_count": 77,
     "metadata": {},
     "output_type": "execute_result"
    }
   ],
   "source": [
    "G_test_acc = [G_clean_test_2_accuracy, G_clean_test_4_accuracy, G_clean_test_10_accuracy]\n",
    "G_attack_rate = [G_asr_2, G_asr_4, G_asr_10]\n",
    "G_data = {\n",
    "    \"G_text_acc\": G_test_acc,\n",
    "    \"G_attack_rate\": G_attack_rate,\n",
    "    \"G_model\": [\"G_2%\", \"G_4%\", \"G_10%\"]\n",
    "}\n",
    "G_df = pd.DataFrame(G_data)\n",
    "G_df.set_index('G_model')"
   ]
  },
  {
   "cell_type": "code",
   "execution_count": 78,
   "metadata": {
    "colab": {
     "base_uri": "https://localhost:8080/",
     "height": 312
    },
    "id": "L0kFQv9Uq7Iq",
    "outputId": "1500e366-3de7-416e-e478-f370d08de7c8"
   },
   "outputs": [
    {
     "data": {
      "image/png": "[encoded data removed]",
      "text/plain": [
       "<Figure size 640x480 with 1 Axes>"
      ]
     },
     "metadata": {},
     "output_type": "display_data"
    }
   ],
   "source": [
    "opacity = 0.4\n",
    "bar_width = 0.35\n",
    "\n",
    "plt.xlabel('combined % drops model')\n",
    "plt.ylabel('Rate')\n",
    "\n",
    "plt.xticks(range(len(G_test_acc)),('2%', '4%', '10%'))\n",
    "bar1 = plt.bar(np.arange(len(G_test_acc)) + bar_width, G_test_acc, bar_width, align='center', alpha=opacity, color='b', label='accuracy')\n",
    "bar2 = plt.bar(range(len(G_attack_rate)),G_attack_rate, bar_width, align='center', alpha=opacity, color='r', label='attack rate')\n",
    "\n",
    "for rect in bar1 + bar2:\n",
    "    height = rect.get_height()\n",
    "    plt.text(rect.get_x() + rect.get_width() / 2.0, height, f'{height:.02f}', ha='center', va='bottom')\n",
    "\n",
    "plt.legend(bbox_to_anchor=(1.4, 1))\n",
    "plt.tight_layout()\n",
    "plt.title('performance of goodNet model')\n",
    "sns.despine()\n",
    "plt.show()"
   ]
  },
  {
   "cell_type": "markdown",
   "metadata": {
    "id": "MFvCnaLAJr7j"
   },
   "source": [
    "---"
   ]
  }
 ],
 "metadata": {
  "colab": {
   "machine_shape": "hm",
   "name": "Lab3_sp5894.ipynb",
   "provenance": []
  },
  "kernelspec": {
   "display_name": "Python 3 (ipykernel)",
   "language": "python",
   "name": "python3"
  },
  "language_info": {
   "codemirror_mode": {
    "name": "ipython",
    "version": 3
   },
   "file_extension": ".py",
   "mimetype": "text/x-python",
   "name": "python",
   "nbconvert_exporter": "python",
   "pygments_lexer": "ipython3",
   "version": "3.11.5"
  }
 },
 "nbformat": 4,
 "nbformat_minor": 1
}
